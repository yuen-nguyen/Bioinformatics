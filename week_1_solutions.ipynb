{
 "cells": [
  {
   "cell_type": "markdown",
   "metadata": {},
   "source": [
    "#### 1.2.06 Pattern count\n",
    "\n",
    "##### Input: string TEXT and PATTERN\n",
    "##### Output: Count(TEXT, PATTERN)\n",
    "\n",
    "##### Example: Count(GCGCG, GCG) = 2"
   ]
  },
  {
   "cell_type": "code",
   "execution_count": 8,
   "metadata": {},
   "outputs": [
    {
     "name": "stdout",
     "output_type": "stream",
     "text": [
      "32\n"
     ]
    }
   ],
   "source": [
    "with open(\"dataset_30272_6.txt\", \"r\") as dataset:\n",
    "    text0 = dataset.readline().strip()\n",
    "    pattern0 = dataset.readline().strip()\n",
    "\n",
    "count = 0\n",
    "\n",
    "for i in range(0, len(text0)-len(pattern0)+1):\n",
    "    if text0[i : i + len(pattern0)] == pattern0:\n",
    "        count = count + 1\n",
    "\n",
    "print(count)"
   ]
  },
  {
   "cell_type": "markdown",
   "metadata": {},
   "source": [
    "#### 1.2.13 Frequent words\n",
    "\n",
    "##### Input: A string Text and an integer k\n",
    "##### Output: All most frequent k-mers in Text\n",
    "\n",
    "##### Sample input: Text = ACGTTGCATGTCGCATGATGCATGAGAGCT, k = 4\n",
    "##### Sample output: CATG GCAT"
   ]
  },
  {
   "cell_type": "code",
   "execution_count": 4,
   "metadata": {},
   "outputs": [
    {
     "name": "stdout",
     "output_type": "stream",
     "text": [
      "['ATCAATTTGGTACC', 'TCAATTTGGTACCT', 'CAATTTGGTACCTC', 'AATTTGGTACCTCC', 'ATTTGGTACCTCCC', 'TTTGGTACCTCCCT']\n"
     ]
    }
   ],
   "source": [
    "with open(\"dataset_30272_13.txt\", \"r\") as dataset:\n",
    "    text0 = dataset.readline().strip()\n",
    "    k = int(dataset.readline().strip())\n",
    "\n",
    "# This kmer_list dictionary will have \n",
    "# key=k-mer & value=number of times that k-mer appears in text0\n",
    "kmer_list = {}\n",
    "\n",
    "for i in range(0, len(text0)):\n",
    "    kmer = text0[i:i+k]\n",
    "    if kmer in kmer_list:\n",
    "        kmer_list[kmer] += 1\n",
    "    else:\n",
    "        kmer_list[kmer] = 1\n",
    "\n",
    "# This frequency_list dictionary will have\n",
    "# key & value of kmer_list 'reversed'\n",
    "# e.g. if kmer_list = {\"ACT\": 2, \"ATC\": 4, \"GGC\": 4, \"AGG\": 1}\n",
    "# then frequency_list = {2: [\"ACT\"], 4: [\"ATC\", \"GGC\"], 1: [\"AGG\"]}\n",
    "frequency_list = {}\n",
    "\n",
    "for kmer in kmer_list:\n",
    "    freq = kmer_list[kmer]\n",
    "    if freq in frequency_list:\n",
    "        frequency_list[freq].append(kmer)\n",
    "    else:\n",
    "        frequency_list[freq] = [kmer]\n",
    "\n",
    "print(frequency_list[max(frequency_list)])\n"
   ]
  },
  {
   "cell_type": "markdown",
   "metadata": {},
   "source": [
    "#### 1.3.02 Reverse complement\n",
    "\n",
    "##### Input: A DNA string Pattern\n",
    "##### Output: Pattern_rc, the reverse complement of Pattern\n",
    "\n",
    "##### Sample input: AAAACCCGGT\n",
    "##### Sample output: ACCGGGTTTT"
   ]
  },
  {
   "cell_type": "code",
   "execution_count": null,
   "metadata": {},
   "outputs": [],
   "source": [
    "with open(\"dataset_30273_2.txt\", \"r\") as dataset:\n",
    "    pattern = dataset.readline().strip()\n",
    "\n",
    "rc_pairs = {\"A\":\"T\", \"T\":\"A\", \"G\":\"C\", \"C\":\"G\"}\n",
    "\n",
    "pattern_rc = \"\"\n",
    "\n",
    "for i in range(len(pattern)-1, -1,-1):\n",
    "    pattern_rc += rc_pairs[pattern[i]]\n",
    "\n",
    "print(pattern_rc)"
   ]
  },
  {
   "cell_type": "markdown",
   "metadata": {},
   "source": [
    "#### 1.3.05 Pattern matching\n",
    "\n",
    "##### Input: Two strings, Pattern and Genome\n",
    "##### Output: A collection of space-separated integers specifying all starting positions where Pattern appears as a substring of Genome\n",
    "\n",
    "##### Sample input: Pattern=ATAT; Genome=GATATATGCATATACTT\n",
    "##### Sample output: 1 3 9"
   ]
  },
  {
   "cell_type": "code",
   "execution_count": 13,
   "metadata": {},
   "outputs": [
    {
     "name": "stdout",
     "output_type": "stream",
     "text": [
      "54 61 81 88 95 102 121 137 153 171 178 273 322 349 388 549 556 572 634 666 690 715 800 810 841 866 894 901 925 932 1002 1009 1034 1061 1114 1149 1183 1246 1330 1386 1455 1539 1555 1611 1618 1651 1682 1701 1718 1725 1790 1797 1813 1838 1845 1852 1868 1988 1995 2011 2062 2069 2076 2091 2100 2107 2134 2210 2273 2280 2338 2413 2450 2501 2535 2595 2618 2625 2641 2656 2730 2746 2787 2794 2962 2990 3086 3093 3100 3110 3146 3183 3239 3275 3295 3311 3326 3409 3425 3432 3453 3489 3545 3656 3679 3686 3693 3700 3780 3800 3839 3846 3902 3930 3947 3954 3986 4061 4077 4125 4153 4212 4282 4289 4356 4363 4370 4377 4407 4434 4463 4481 4497 4566 4646 4653 4660 4678 4685 4739 4795 4802 4868 4920 4933 4940 4947 4954 4990 5015 5024 5045 5061 5101 5166 5184 5234 5250 5305 5378 5421 5453 5468 5475 5498 5514 5524 5551 5558 5586 5593 5600 5657 5680 5687 5722 5845 5860 5867 5891 5898 5966 5992 5999 6014 6021 6046 6053 6060 6099 6116 6155 6170 6177 6221 6228 6235 6251 6285 6326 6411 6418 6435 6442 6500 6529 6536 6609 6616 6640 6682 6689 6745 6794 6803 6813 6829 6836 6851 6880 6937 6957 6985 6992 7008 7118 7234 7337 7397 7507 7514 7567 7633 7662 7677 7692 7699 7759 7782 7862 7912 7919 7966 7991 8180 8322 8374 8477 8484 8491 8562 8578 8585 8618 8662 8751 8791 8798 8840 8872 8881 8900 8933 8990 9070 9077 9097 9104 9154 9161 9257 9274 9328 9335 9342 9357 9420 9427 9455 9462 9512 9527 9543 9569 9600 9607 9614 9642 9706 9713\n"
     ]
    }
   ],
   "source": [
    "with open(\"dataset_30273_5.txt\", \"r\") as dataset:\n",
    "    pattern = dataset.readline().strip()\n",
    "    genome = dataset.readline().strip()\n",
    "\n",
    "match_positions = []\n",
    "\n",
    "for i in range(0, len(genome)-len(pattern)+1):\n",
    "    if genome[i:i+len(pattern)] == pattern:\n",
    "        match_positions.append(i)\n",
    "\n",
    "result = \"\"\n",
    "\n",
    "for position in match_positions:\n",
    "    result += str(position) + \" \"\n",
    "\n",
    "print(result.strip())"
   ]
  }
 ],
 "metadata": {
  "kernelspec": {
   "display_name": "bioinfomatics",
   "language": "python",
   "name": "python3"
  },
  "language_info": {
   "codemirror_mode": {
    "name": "ipython",
    "version": 3
   },
   "file_extension": ".py",
   "mimetype": "text/x-python",
   "name": "python",
   "nbconvert_exporter": "python",
   "pygments_lexer": "ipython3",
   "version": "3.12.10"
  }
 },
 "nbformat": 4,
 "nbformat_minor": 2
}
